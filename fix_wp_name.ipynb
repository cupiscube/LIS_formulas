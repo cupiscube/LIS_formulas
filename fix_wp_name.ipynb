{
 "cells": [
  {
   "cell_type": "code",
   "execution_count": 1,
   "id": "32ec720b-71b1-424b-b949-0f43124a9399",
   "metadata": {},
   "outputs": [],
   "source": [
    "import psycopg2 as pg\n",
    "import pandas as pd"
   ]
  },
  {
   "cell_type": "code",
   "execution_count": 2,
   "id": "1ed3bf38-7996-45f8-b25c-618f7a46f09f",
   "metadata": {},
   "outputs": [],
   "source": [
    "import pandas.io.sql as psql"
   ]
  },
  {
   "cell_type": "markdown",
   "id": "89a3b1ab-40fb-4094-8e0b-8761e2204567",
   "metadata": {},
   "source": [
    "# Get work by WP"
   ]
  },
  {
   "cell_type": "code",
   "execution_count": 6,
   "id": "06a08069-72ff-413b-b6ca-008a821ebe1c",
   "metadata": {},
   "outputs": [],
   "source": [
    "wp_name = 'ErbaXL200'"
   ]
  },
  {
   "cell_type": "code",
   "execution_count": 44,
   "id": "dd3fb3bc-7ac7-4bcd-ba86-0cbccc15b1f8",
   "metadata": {},
   "outputs": [
    {
     "data": {
      "text/plain": [
       "['Исследование уровня креатинина в крови [A25]',\n",
       " 'Исследование уровня мочевины в крови [A25]',\n",
       " 'Исследование уровня холестерина липопротеинов высокой плотности (ЛПВП) [A25] [A25]',\n",
       " 'Исследование уровня кальпротектина в кале [A25]',\n",
       " 'Исследование насыщения трансферрина железом [A25]',\n",
       " 'Коэффициент атерогенности [A25]',\n",
       " 'Исследование уровня C-реактивного белка (СРБ) в сыворотке крови [A25]',\n",
       " 'Исследование уровня неорганического фосфора в крови [A25]',\n",
       " 'Исследование уровня кальция в моче [A25]',\n",
       " 'Исследование уровня билирубина свободного (непрямой) в крови [A25]',\n",
       " 'Определение активности альфа-амилазы в моче [A25]',\n",
       " 'Исследование уровня ферритина в крови [A25]',\n",
       " 'Магний в моче [A25]',\n",
       " 'Исследование уровня натрия в крови [A25]',\n",
       " 'Исследование уровня калия в крови [A25]',\n",
       " 'Исследование уровня ионизированного кальция в крови [A25]',\n",
       " 'Исследование уровня тропонина T в крови [A25]',\n",
       " 'Исследование уровня железа сыворотки крови [A25]',\n",
       " 'Определение содержания ревматоидного фактора в крови [A25]',\n",
       " 'Исследование уровня хлоридов в крови [A25]',\n",
       " 'Исследование уровня трансферрина сыворотки крови [A25]',\n",
       " 'Определение антистрептолизина-О (АСЛ-О) в сыворотке крови [A25]',\n",
       " 'Исследование уровня гликированного гемоглобина в крови [A25]',\n",
       " 'Исследование уровня общего магния в сыворотке крови [A25]',\n",
       " 'Исследование уровня холестерина в крови [A25]',\n",
       " 'Исследование уровня мочевой кислоты в крови [A25]',\n",
       " 'Определение активности липазы в сыворотке крови [A25]',\n",
       " 'Исследование уровня триглицеридов (ТГ) в крови [A25]',\n",
       " 'Исследование уровня общего билирубина в крови [A25]',\n",
       " 'Исследование уровня билирубина связанного (прямого) в крови [A25]',\n",
       " 'Исследование уровня альбумина в крови [A25]',\n",
       " 'Исследование уровня общего белка в крови [A25]',\n",
       " 'Исследование уровня холестерина липопротеинов низкой плотности (ЛПНП) [A25]',\n",
       " 'Исследование уровня глюкозы в крови [A25]',\n",
       " 'Исследование уровня общего кальция в крови [A25]',\n",
       " 'Определение активности креатинкиназы в крови [A25]',\n",
       " 'Исследование уровня/активности изоферментов креатинкиназы в крови [A25]',\n",
       " 'Определение активности щелочной фосфатазы в крови [A25]',\n",
       " 'Определение активности амилазы в крови [A25]',\n",
       " 'Определение активности аланинаминотрансферазы (АЛТ) в крови [A25]',\n",
       " 'Определение активности аспартатаминотрансферазы (АСТ) в крови [A25]',\n",
       " 'Определение активности гамма-глютамилтрансферазы (ГГТ) в крови [A25]',\n",
       " 'Определение активности лактатдегидрогеназы (ЛДГ) в крови [A25]',\n",
       " 'Исследование уровня прокальцитонина в крови [A25]']"
      ]
     },
     "execution_count": 44,
     "metadata": {},
     "output_type": "execute_result"
    }
   ],
   "source": [
    "connection = pg.connect(\"host=192.168.51.246 port=5433 dbname=bregis_lis user=lis_admin password=Bre91s_Admin\")\n",
    "select_wp = \"\"\"\n",
    "select w.\"text\" work_name,\n",
    "       w.id\n",
    "from lab.work as w,\n",
    "\t lab.workplace as wp\n",
    "where wp.\"text\" = 'ErbaXL200'\n",
    "    and w.workplace_id = wp.id\n",
    "\"\"\"\n",
    "# dataframe_wp = psql.read_sql(select, connection)\n",
    "\n",
    "cursor = connection.cursor()\n",
    "\n",
    "cursor.execute(select_wp)\n",
    "wp = cursor.fetchall()\n",
    "works = [w[0] for w in wp]\n",
    "works"
   ]
  },
  {
   "cell_type": "markdown",
   "id": "c10ac3df-a81f-4d15-a516-99e5eabbb2c7",
   "metadata": {},
   "source": [
    "# Fix WP names"
   ]
  },
  {
   "cell_type": "code",
   "execution_count": 48,
   "id": "ebb0d3da-0fb6-4529-9076-80e72a25dd89",
   "metadata": {},
   "outputs": [],
   "source": [
    "new_works_name = []\n",
    "for work_ in wp:\n",
    "    work = work_[0]\n",
    "    # find left brekits\n",
    "    current_left_brekit = work[current_left_brekit+1::].find('[') + 1\n",
    "    # current_left_brekit = 0\n",
    "    # next_left_brekit = 0\n",
    "    # left_brekits = []\n",
    "    # print(work)\n",
    "    # while next_left_brekit != -1:\n",
    "    #     next_left_brekit = work[current_left_brekit+1::].find('[')\n",
    "    #     if next_left_brekit != -1:\n",
    "    #         current_left_brekit += next_left_brekit + 1\n",
    "    #         left_brekits.append(current_left_brekit)\n",
    "    # print(left_brekits)\n",
    "    # find the last right brekit\n",
    "    current_right_brekit = work[::].rfind(']')\n",
    "    new_work = work[:current_left_brekit:] + '[' + wp_name + ']'\n",
    "    new_works_name.append([new_work, work_[1]])"
   ]
  },
  {
   "cell_type": "markdown",
   "id": "bd898fa4-d9c6-4bec-acd7-88baf4a4534f",
   "metadata": {},
   "source": [
    "# Update values"
   ]
  },
  {
   "cell_type": "code",
   "execution_count": 51,
   "id": "f6d11947-6108-4640-87b3-c73470d0db2a",
   "metadata": {},
   "outputs": [
    {
     "name": "stdout",
     "output_type": "stream",
     "text": [
      "UPDATE lab.work as w SET text = 'Исследование уровня креатинина[ErbaXL200]' WHERE id = 562;\n",
      "UPDATE lab.work as w SET text = 'Исследо[ErbaXL200]' WHERE id = 564;\n",
      "UPDATE lab.work as w SET text = 'Исследование уровня холестерина липопротеинов высокой плотности [ErbaXL200]' WHERE id = 539;\n",
      "UPDATE lab.work as w SET text = '[ErbaXL200]' WHERE id = 540;\n",
      "UPDATE lab.work as w SET text = 'Исследование насыщения трансферрина железом [ErbaXL200]' WHERE id = 541;\n",
      "UPDATE lab.work as w SET text = '[ErbaXL200]' WHERE id = 542;\n",
      "UPDATE lab.work as w SET text = 'Исследование уровня C-реактивного белка (СРБ) в сыворотке крови [ErbaXL200]' WHERE id = 543;\n",
      "UPDATE lab.work as w SET text = '[ErbaXL200]' WHERE id = 544;\n",
      "UPDATE lab.work as w SET text = 'Исследование уровня кальция в моче [ErbaXL200]' WHERE id = 545;\n",
      "UPDATE lab.work as w SET text = 'Исследование уровня билиру[ErbaXL200]' WHERE id = 546;\n",
      "UPDATE lab.work as w SET text = 'Определение активн[ErbaXL200]' WHERE id = 547;\n",
      "UPDATE lab.work as w SET text = 'Исследование уровня [ErbaXL200]' WHERE id = 548;\n",
      "UPDATE lab.work as w SET text = '[ErbaXL200]' WHERE id = 549;\n",
      "UPDATE lab.work as w SET text = 'Исследование уровня натрия в крови [ErbaXL200]' WHERE id = 550;\n",
      "UPDATE lab.work as w SET text = '[ErbaXL200]' WHERE id = 551;\n",
      "UPDATE lab.work as w SET text = 'Исследование уровня ионизированного кальция в крови [ErbaXL200]' WHERE id = 552;\n",
      "UPDATE lab.work as w SET text = '[ErbaXL200]' WHERE id = 553;\n",
      "UPDATE lab.work as w SET text = 'Исследование уровня железа сыворотки крови [ErbaXL200]' WHERE id = 554;\n",
      "UPDATE lab.work as w SET text = 'Определени[ErbaXL200]' WHERE id = 555;\n",
      "UPDATE lab.work as w SET text = 'Исследование уровня хлоридо[ErbaXL200]' WHERE id = 556;\n",
      "UPDATE lab.work as w SET text = 'Исследование уровня тр[ErbaXL200]' WHERE id = 557;\n",
      "UPDATE lab.work as w SET text = 'Определение антистрептолизина-О (АСЛ[ErbaXL200]' WHERE id = 558;\n",
      "UPDATE lab.work as w SET text = 'Исследование уровня[ErbaXL200]' WHERE id = 559;\n",
      "UPDATE lab.work as w SET text = 'Исследование уровня общего магния[ErbaXL200]' WHERE id = 560;\n",
      "UPDATE lab.work as w SET text = 'Исследо[ErbaXL200]' WHERE id = 561;\n",
      "UPDATE lab.work as w SET text = 'Исследование уровня мочевой кислоты в[ErbaXL200]' WHERE id = 563;\n",
      "UPDATE lab.work as w SET text = 'Определение[ErbaXL200]' WHERE id = 565;\n",
      "UPDATE lab.work as w SET text = 'Исследование уровня триглицеридов (Т[ErbaXL200]' WHERE id = 566;\n",
      "UPDATE lab.work as w SET text = 'Исследован[ErbaXL200]' WHERE id = 567;\n",
      "UPDATE lab.work as w SET text = 'Исследование уровня билирубина связанного (прямого[ErbaXL200]' WHERE id = 568;\n",
      "UPDATE lab.work as w SET text = '[ErbaXL200]' WHERE id = 569;\n",
      "UPDATE lab.work as w SET text = 'Исследование уровня общего белка в крови [ErbaXL200]' WHERE id = 570;\n",
      "UPDATE lab.work as w SET text = 'Исследование уровня холестери[ErbaXL200]' WHERE id = 571;\n",
      "UPDATE lab.work as w SET text = 'Исследо[ErbaXL200]' WHERE id = 572;\n",
      "UPDATE lab.work as w SET text = 'Исследование уровня общего кальция в[ErbaXL200]' WHERE id = 573;\n",
      "UPDATE lab.work as w SET text = 'Определен[ErbaXL200]' WHERE id = 574;\n",
      "UPDATE lab.work as w SET text = 'Исследование уровня/активности изоферментов креатинкиназы[ErbaXL200]' WHERE id = 575;\n",
      "UPDATE lab.work as w SET text = '[ErbaXL200]' WHERE id = 576;\n",
      "UPDATE lab.work as w SET text = 'Определение активности амилазы в крови [ErbaXL200]' WHERE id = 577;\n",
      "UPDATE lab.work as w SET text = 'Определение активност[ErbaXL200]' WHERE id = 578;\n",
      "UPDATE lab.work as w SET text = 'Определение активности аспартатаминотранс[ErbaXL200]' WHERE id = 579;\n",
      "UPDATE lab.work as w SET text = 'Определение активности[ErbaXL200]' WHERE id = 580;\n",
      "UPDATE lab.work as w SET text = 'Определение активности лактатдегидр[ErbaXL200]' WHERE id = 581;\n",
      "UPDATE lab.work as w SET text = 'Исследова[ErbaXL200]' WHERE id = 582;\n"
     ]
    }
   ],
   "source": [
    "cursor = connection.cursor()\n",
    "for n_work in new_works_name:\n",
    "    table_modification = f\"\"\"UPDATE lab.work as w SET text = '{str(n_work[0])}' WHERE id = {n_work[1]};\"\"\"\n",
    "    print(table_modification)\n",
    "    try:\n",
    "        cursor.execute(table_modification)\n",
    "        connection.commit()\n",
    "    except:\n",
    "        print('Except!')\n",
    "        cursor.execute(\"ROLLBACK\")\n",
    "        connection.commit()"
   ]
  }
 ],
 "metadata": {
  "kernelspec": {
   "display_name": "Python 3 (ipykernel)",
   "language": "python",
   "name": "python3"
  },
  "language_info": {
   "codemirror_mode": {
    "name": "ipython",
    "version": 3
   },
   "file_extension": ".py",
   "mimetype": "text/x-python",
   "name": "python",
   "nbconvert_exporter": "python",
   "pygments_lexer": "ipython3",
   "version": "3.10.0"
  }
 },
 "nbformat": 4,
 "nbformat_minor": 5
}
