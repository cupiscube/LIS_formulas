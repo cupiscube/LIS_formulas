{
 "cells": [
  {
   "cell_type": "code",
   "execution_count": 42,
   "id": "84cd9a92-0178-4234-a117-1b93a832d64d",
   "metadata": {},
   "outputs": [],
   "source": [
    "import psycopg2 as pg\n",
    "import pandas as pd"
   ]
  },
  {
   "cell_type": "code",
   "execution_count": 43,
   "id": "7f8c3f41-ecba-4575-a1fe-f52251e620bc",
   "metadata": {},
   "outputs": [],
   "source": [
    "import pandas.io.sql as psql"
   ]
  },
  {
   "cell_type": "markdown",
   "id": "7fc373f8-3234-46c7-9cc8-0fed4411937f",
   "metadata": {},
   "source": [
    "# Get work by WP"
   ]
  },
  {
   "cell_type": "code",
   "execution_count": 44,
   "id": "301f268b-d518-4b74-b2ce-c2661e65d56b",
   "metadata": {},
   "outputs": [
    {
     "data": {
      "text/plain": [
       "[]"
      ]
     },
     "execution_count": 44,
     "metadata": {},
     "output_type": "execute_result"
    }
   ],
   "source": [
    "connection = pg.connect(\"host=192.168.0.20 port=5433 dbname=bregis_lis user=lis_admin password=Bre91s_Admin\")\n",
    "select_wp = \"\"\"\n",
    "select w.\"text\" work_name\n",
    "from lab.work as w,\n",
    "\t lab.workplace as wp\n",
    "where wp.\"text\" = 'SysmexXS500i'\n",
    "    and w.workplace_id = wp.id\n",
    "\"\"\"\n",
    "# dataframe_wp = psql.read_sql(select, connection)\n",
    "\n",
    "cursor = connection.cursor()\n",
    "\n",
    "cursor.execute(select_wp)\n",
    "wp = cursor.fetchall()\n",
    "works = [w[0] for w in wp]\n",
    "works"
   ]
  },
  {
   "cell_type": "markdown",
   "id": "21a0c73c-6976-49c2-a85a-abcee3597c8d",
   "metadata": {},
   "source": [
    "# Get Data"
   ]
  },
  {
   "cell_type": "code",
   "execution_count": 45,
   "id": "78d460fa-4d82-450c-999a-05b4a93f285f",
   "metadata": {},
   "outputs": [
    {
     "name": "stderr",
     "output_type": "stream",
     "text": [
      "C:\\Users\\BatrakovDR\\AppData\\Local\\Temp\\ipykernel_25988\\7745141.py:11: UserWarning: pandas only supports SQLAlchemy connectable (engine/connection) or database string URI or sqlite3 DBAPI2 connection. Other DBAPI2 objects are not tested. Please consider using SQLAlchemy.\n",
      "  dataframe = psql.read_sql(select, connection)\n"
     ]
    },
    {
     "data": {
      "text/html": [
       "<div>\n",
       "<style scoped>\n",
       "    .dataframe tbody tr th:only-of-type {\n",
       "        vertical-align: middle;\n",
       "    }\n",
       "\n",
       "    .dataframe tbody tr th {\n",
       "        vertical-align: top;\n",
       "    }\n",
       "\n",
       "    .dataframe thead th {\n",
       "        text-align: right;\n",
       "    }\n",
       "</style>\n",
       "<table border=\"1\" class=\"dataframe\">\n",
       "  <thead>\n",
       "    <tr style=\"text-align: right;\">\n",
       "      <th></th>\n",
       "      <th>result_name</th>\n",
       "      <th>id</th>\n",
       "      <th>createby</th>\n",
       "      <th>createdate</th>\n",
       "      <th>updateby</th>\n",
       "      <th>updatedate</th>\n",
       "      <th>workresult_id</th>\n",
       "      <th>code</th>\n",
       "      <th>text</th>\n",
       "      <th>type_id</th>\n",
       "      <th>...</th>\n",
       "      <th>display_format_id</th>\n",
       "      <th>result_print_format_id</th>\n",
       "      <th>norm_set_id</th>\n",
       "      <th>hide_zero_value</th>\n",
       "      <th>input_order</th>\n",
       "      <th>display_order</th>\n",
       "      <th>sp_func</th>\n",
       "      <th>ext_code</th>\n",
       "      <th>status</th>\n",
       "      <th>group_num</th>\n",
       "    </tr>\n",
       "  </thead>\n",
       "  <tbody>\n",
       "    <tr>\n",
       "      <th>0</th>\n",
       "      <td>рнк вируса гриппа в</td>\n",
       "      <td>5489</td>\n",
       "      <td>0</td>\n",
       "      <td>2024-02-12 13:20:51.069130</td>\n",
       "      <td>0</td>\n",
       "      <td>2024-02-12 13:20:51.069130</td>\n",
       "      <td>5052</td>\n",
       "      <td>2042</td>\n",
       "      <td>Качественный</td>\n",
       "      <td>2040</td>\n",
       "      <td>...</td>\n",
       "      <td>None</td>\n",
       "      <td>None</td>\n",
       "      <td>None</td>\n",
       "      <td>0</td>\n",
       "      <td>0</td>\n",
       "      <td>0</td>\n",
       "      <td>None</td>\n",
       "      <td>None</td>\n",
       "      <td>1</td>\n",
       "      <td>None</td>\n",
       "    </tr>\n",
       "  </tbody>\n",
       "</table>\n",
       "<p>1 rows × 26 columns</p>\n",
       "</div>"
      ],
      "text/plain": [
       "           result_name    id  createby                 createdate  updateby  \\\n",
       "0  рнк вируса гриппа в  5489         0 2024-02-12 13:20:51.069130         0   \n",
       "\n",
       "                  updatedate  workresult_id  code          text  type_id  ...  \\\n",
       "0 2024-02-12 13:20:51.069130           5052  2042  Качественный     2040  ...   \n",
       "\n",
       "  display_format_id result_print_format_id norm_set_id hide_zero_value  \\\n",
       "0              None                   None        None               0   \n",
       "\n",
       "   input_order  display_order sp_func ext_code status  group_num  \n",
       "0            0              0    None     None      1       None  \n",
       "\n",
       "[1 rows x 26 columns]"
      ]
     },
     "execution_count": 45,
     "metadata": {},
     "output_type": "execute_result"
    }
   ],
   "source": [
    "# connection = pg.connect(\"host=10.10.11.116 port=5433 dbname=bregis_lis user=lis_admin password=Bre91s_Admin\")\n",
    "select = \"\"\"\n",
    "select wr.\"text\" result_name, wrv.*\n",
    "from lab.work as w,\n",
    "   lab.workresult as wr,\n",
    "   lab.workresult_value as wrv\n",
    "where w.\"text\" = 'Определение РНК вируса гриппа В [DT96]'\n",
    "    and wr.work_id = w.id\n",
    "    and wrv.workresult_id = wr.id\n",
    "\"\"\"\n",
    "dataframe = psql.read_sql(select, connection)\n",
    "# product_category = psql.read_sql_query('select * from product_category', connection)\n",
    "dataframe['result_name'] = dataframe['result_name'].str.lower()\n",
    "dataframe"
   ]
  },
  {
   "cell_type": "code",
   "execution_count": 46,
   "id": "59d632a8-6be7-4bce-b0cb-8d875f80fcfb",
   "metadata": {},
   "outputs": [
    {
     "data": {
      "text/html": [
       "<div>\n",
       "<style scoped>\n",
       "    .dataframe tbody tr th:only-of-type {\n",
       "        vertical-align: middle;\n",
       "    }\n",
       "\n",
       "    .dataframe tbody tr th {\n",
       "        vertical-align: top;\n",
       "    }\n",
       "\n",
       "    .dataframe thead th {\n",
       "        text-align: right;\n",
       "    }\n",
       "</style>\n",
       "<table border=\"1\" class=\"dataframe\">\n",
       "  <thead>\n",
       "    <tr style=\"text-align: right;\">\n",
       "      <th></th>\n",
       "      <th>result_name</th>\n",
       "      <th>id</th>\n",
       "      <th>func</th>\n",
       "      <th>text</th>\n",
       "    </tr>\n",
       "  </thead>\n",
       "  <tbody>\n",
       "  </tbody>\n",
       "</table>\n",
       "</div>"
      ],
      "text/plain": [
       "Empty DataFrame\n",
       "Columns: [result_name, id, func, text]\n",
       "Index: []"
      ]
     },
     "execution_count": 46,
     "metadata": {},
     "output_type": "execute_result"
    }
   ],
   "source": [
    "func_df = dataframe.dropna(subset=['func'])\n",
    "func_df = func_df[['result_name', 'id', 'func', 'text']]\n",
    "func_df"
   ]
  },
  {
   "cell_type": "code",
   "execution_count": 47,
   "id": "991d9da4-bf9b-416b-8572-be8a787d418f",
   "metadata": {},
   "outputs": [
    {
     "data": {
      "text/html": [
       "<div>\n",
       "<style scoped>\n",
       "    .dataframe tbody tr th:only-of-type {\n",
       "        vertical-align: middle;\n",
       "    }\n",
       "\n",
       "    .dataframe tbody tr th {\n",
       "        vertical-align: top;\n",
       "    }\n",
       "\n",
       "    .dataframe thead th {\n",
       "        text-align: right;\n",
       "    }\n",
       "</style>\n",
       "<table border=\"1\" class=\"dataframe\">\n",
       "  <thead>\n",
       "    <tr style=\"text-align: right;\">\n",
       "      <th></th>\n",
       "      <th>result_name</th>\n",
       "      <th>id</th>\n",
       "      <th>createby</th>\n",
       "      <th>createdate</th>\n",
       "      <th>updateby</th>\n",
       "      <th>updatedate</th>\n",
       "      <th>workresult_id</th>\n",
       "      <th>code</th>\n",
       "      <th>text</th>\n",
       "      <th>type_id</th>\n",
       "      <th>...</th>\n",
       "      <th>display_format_id</th>\n",
       "      <th>result_print_format_id</th>\n",
       "      <th>norm_set_id</th>\n",
       "      <th>hide_zero_value</th>\n",
       "      <th>input_order</th>\n",
       "      <th>display_order</th>\n",
       "      <th>sp_func</th>\n",
       "      <th>ext_code</th>\n",
       "      <th>status</th>\n",
       "      <th>group_num</th>\n",
       "    </tr>\n",
       "  </thead>\n",
       "  <tbody>\n",
       "  </tbody>\n",
       "</table>\n",
       "<p>0 rows × 26 columns</p>\n",
       "</div>"
      ],
      "text/plain": [
       "Empty DataFrame\n",
       "Columns: [result_name, id, createby, createdate, updateby, updatedate, workresult_id, code, text, type_id, interpret, func, unit_id, display_unit_id, req_status, print_status, display_format_id, result_print_format_id, norm_set_id, hide_zero_value, input_order, display_order, sp_func, ext_code, status, group_num]\n",
       "Index: []\n",
       "\n",
       "[0 rows x 26 columns]"
      ]
     },
     "execution_count": 47,
     "metadata": {},
     "output_type": "execute_result"
    }
   ],
   "source": [
    "df = dataframe.loc[(dataframe['result_name'].isin(func_df['result_name']))]\n",
    "df"
   ]
  },
  {
   "cell_type": "markdown",
   "id": "4b3dc777-dabc-466f-854d-b6be791e6d60",
   "metadata": {},
   "source": [
    "# Get values"
   ]
  },
  {
   "cell_type": "code",
   "execution_count": 48,
   "id": "0d5476ab-b380-4ed9-9cb7-681efd787e8d",
   "metadata": {},
   "outputs": [],
   "source": [
    "ident_1 = '(числовой)'\n",
    "ident_2 = '(анализатор)'"
   ]
  },
  {
   "cell_type": "code",
   "execution_count": 49,
   "id": "ad235c46-ed90-4ce2-a470-36e0ed8f78e6",
   "metadata": {},
   "outputs": [
    {
     "data": {
      "text/plain": [
       "Series([], Name: result_name, dtype: object)"
      ]
     },
     "execution_count": 49,
     "metadata": {},
     "output_type": "execute_result"
    }
   ],
   "source": [
    "names = df['result_name'].str.replace(ident_1, '')\n",
    "names"
   ]
  },
  {
   "cell_type": "code",
   "execution_count": null,
   "id": "e1b60f52-d8d6-4949-a386-128a7e74d010",
   "metadata": {},
   "outputs": [],
   "source": []
  },
  {
   "cell_type": "code",
   "execution_count": 50,
   "id": "53b63cca-4c61-4977-841b-a19b28491075",
   "metadata": {},
   "outputs": [
    {
     "name": "stderr",
     "output_type": "stream",
     "text": [
      "C:\\Users\\BatrakovDR\\AppData\\Local\\Temp\\ipykernel_25988\\3204257614.py:1: UserWarning: This pattern is interpreted as a regular expression, and has match groups. To actually get the groups, use str.extract.\n",
      "  target_values = dataframe[dataframe['result_name'].str.contains(ident_1)]\n",
      "C:\\Users\\BatrakovDR\\AppData\\Local\\Temp\\ipykernel_25988\\3204257614.py:2: UserWarning: This pattern is interpreted as a regular expression, and has match groups. To actually get the groups, use str.extract.\n",
      "  analizator_values = dataframe[dataframe['result_name'].str.contains(ident_2)]\n"
     ]
    }
   ],
   "source": [
    "target_values = dataframe[dataframe['result_name'].str.contains(ident_1)]\n",
    "analizator_values = dataframe[dataframe['result_name'].str.contains(ident_2)]"
   ]
  },
  {
   "cell_type": "markdown",
   "id": "566615bf-dfb4-4f7d-99ba-99d41dc761ff",
   "metadata": {},
   "source": [
    "## Analizator values"
   ]
  },
  {
   "cell_type": "code",
   "execution_count": 51,
   "id": "b0ffa354-e9f9-41a9-a3d7-bc0c677faa72",
   "metadata": {},
   "outputs": [
    {
     "data": {
      "text/html": [
       "<div>\n",
       "<style scoped>\n",
       "    .dataframe tbody tr th:only-of-type {\n",
       "        vertical-align: middle;\n",
       "    }\n",
       "\n",
       "    .dataframe tbody tr th {\n",
       "        vertical-align: top;\n",
       "    }\n",
       "\n",
       "    .dataframe thead th {\n",
       "        text-align: right;\n",
       "    }\n",
       "</style>\n",
       "<table border=\"1\" class=\"dataframe\">\n",
       "  <thead>\n",
       "    <tr style=\"text-align: right;\">\n",
       "      <th></th>\n",
       "      <th>result_name</th>\n",
       "      <th>id</th>\n",
       "      <th>createby</th>\n",
       "      <th>createdate</th>\n",
       "      <th>updateby</th>\n",
       "      <th>updatedate</th>\n",
       "      <th>workresult_id</th>\n",
       "      <th>code</th>\n",
       "      <th>text</th>\n",
       "      <th>type_id</th>\n",
       "      <th>...</th>\n",
       "      <th>display_format_id</th>\n",
       "      <th>result_print_format_id</th>\n",
       "      <th>norm_set_id</th>\n",
       "      <th>hide_zero_value</th>\n",
       "      <th>input_order</th>\n",
       "      <th>display_order</th>\n",
       "      <th>sp_func</th>\n",
       "      <th>ext_code</th>\n",
       "      <th>status</th>\n",
       "      <th>group_num</th>\n",
       "    </tr>\n",
       "  </thead>\n",
       "  <tbody>\n",
       "  </tbody>\n",
       "</table>\n",
       "<p>0 rows × 26 columns</p>\n",
       "</div>"
      ],
      "text/plain": [
       "Empty DataFrame\n",
       "Columns: [result_name, id, createby, createdate, updateby, updatedate, workresult_id, code, text, type_id, interpret, func, unit_id, display_unit_id, req_status, print_status, display_format_id, result_print_format_id, norm_set_id, hide_zero_value, input_order, display_order, sp_func, ext_code, status, group_num]\n",
       "Index: []\n",
       "\n",
       "[0 rows x 26 columns]"
      ]
     },
     "execution_count": 51,
     "metadata": {},
     "output_type": "execute_result"
    }
   ],
   "source": [
    "analizator_values"
   ]
  },
  {
   "cell_type": "code",
   "execution_count": 52,
   "id": "ed1b7bb5-ba26-4e4f-9eaa-c69f6f366fca",
   "metadata": {},
   "outputs": [],
   "source": [
    "analizator_values_without_ident = analizator_values['result_name'].str.replace(ident_2, '')"
   ]
  },
  {
   "cell_type": "code",
   "execution_count": 53,
   "id": "17e59a25-0f53-4d32-b0d1-81d53de7f5e3",
   "metadata": {},
   "outputs": [
    {
     "data": {
      "text/html": [
       "<div>\n",
       "<style scoped>\n",
       "    .dataframe tbody tr th:only-of-type {\n",
       "        vertical-align: middle;\n",
       "    }\n",
       "\n",
       "    .dataframe tbody tr th {\n",
       "        vertical-align: top;\n",
       "    }\n",
       "\n",
       "    .dataframe thead th {\n",
       "        text-align: right;\n",
       "    }\n",
       "</style>\n",
       "<table border=\"1\" class=\"dataframe\">\n",
       "  <thead>\n",
       "    <tr style=\"text-align: right;\">\n",
       "      <th></th>\n",
       "      <th>result_name</th>\n",
       "      <th>id</th>\n",
       "      <th>createby</th>\n",
       "      <th>createdate</th>\n",
       "      <th>updateby</th>\n",
       "      <th>updatedate</th>\n",
       "      <th>workresult_id</th>\n",
       "      <th>code</th>\n",
       "      <th>text</th>\n",
       "      <th>type_id</th>\n",
       "      <th>...</th>\n",
       "      <th>display_format_id</th>\n",
       "      <th>result_print_format_id</th>\n",
       "      <th>norm_set_id</th>\n",
       "      <th>hide_zero_value</th>\n",
       "      <th>input_order</th>\n",
       "      <th>display_order</th>\n",
       "      <th>sp_func</th>\n",
       "      <th>ext_code</th>\n",
       "      <th>status</th>\n",
       "      <th>group_num</th>\n",
       "    </tr>\n",
       "  </thead>\n",
       "  <tbody>\n",
       "  </tbody>\n",
       "</table>\n",
       "<p>0 rows × 26 columns</p>\n",
       "</div>"
      ],
      "text/plain": [
       "Empty DataFrame\n",
       "Columns: [result_name, id, createby, createdate, updateby, updatedate, workresult_id, code, text, type_id, interpret, func, unit_id, display_unit_id, req_status, print_status, display_format_id, result_print_format_id, norm_set_id, hide_zero_value, input_order, display_order, sp_func, ext_code, status, group_num]\n",
       "Index: []\n",
       "\n",
       "[0 rows x 26 columns]"
      ]
     },
     "execution_count": 53,
     "metadata": {},
     "output_type": "execute_result"
    }
   ],
   "source": [
    "analizator_values.loc[:, ('result_name')] = analizator_values_without_ident\n",
    "analizator_values"
   ]
  },
  {
   "cell_type": "markdown",
   "id": "efb22888-83bf-48ed-8ef0-232f38ab22b7",
   "metadata": {},
   "source": [
    "## Target values"
   ]
  },
  {
   "cell_type": "code",
   "execution_count": 54,
   "id": "a96f97ca-8aa6-4ce2-8211-b1b9d67ca3f9",
   "metadata": {},
   "outputs": [
    {
     "data": {
      "text/html": [
       "<div>\n",
       "<style scoped>\n",
       "    .dataframe tbody tr th:only-of-type {\n",
       "        vertical-align: middle;\n",
       "    }\n",
       "\n",
       "    .dataframe tbody tr th {\n",
       "        vertical-align: top;\n",
       "    }\n",
       "\n",
       "    .dataframe thead th {\n",
       "        text-align: right;\n",
       "    }\n",
       "</style>\n",
       "<table border=\"1\" class=\"dataframe\">\n",
       "  <thead>\n",
       "    <tr style=\"text-align: right;\">\n",
       "      <th></th>\n",
       "      <th>result_name</th>\n",
       "      <th>id</th>\n",
       "      <th>createby</th>\n",
       "      <th>createdate</th>\n",
       "      <th>updateby</th>\n",
       "      <th>updatedate</th>\n",
       "      <th>workresult_id</th>\n",
       "      <th>code</th>\n",
       "      <th>text</th>\n",
       "      <th>type_id</th>\n",
       "      <th>...</th>\n",
       "      <th>display_format_id</th>\n",
       "      <th>result_print_format_id</th>\n",
       "      <th>norm_set_id</th>\n",
       "      <th>hide_zero_value</th>\n",
       "      <th>input_order</th>\n",
       "      <th>display_order</th>\n",
       "      <th>sp_func</th>\n",
       "      <th>ext_code</th>\n",
       "      <th>status</th>\n",
       "      <th>group_num</th>\n",
       "    </tr>\n",
       "  </thead>\n",
       "  <tbody>\n",
       "  </tbody>\n",
       "</table>\n",
       "<p>0 rows × 26 columns</p>\n",
       "</div>"
      ],
      "text/plain": [
       "Empty DataFrame\n",
       "Columns: [result_name, id, createby, createdate, updateby, updatedate, workresult_id, code, text, type_id, interpret, func, unit_id, display_unit_id, req_status, print_status, display_format_id, result_print_format_id, norm_set_id, hide_zero_value, input_order, display_order, sp_func, ext_code, status, group_num]\n",
       "Index: []\n",
       "\n",
       "[0 rows x 26 columns]"
      ]
     },
     "execution_count": 54,
     "metadata": {},
     "output_type": "execute_result"
    }
   ],
   "source": [
    "target_values"
   ]
  },
  {
   "cell_type": "code",
   "execution_count": 55,
   "id": "a2d25f24-fb37-4c47-9e65-2773ec3e90d0",
   "metadata": {},
   "outputs": [
    {
     "data": {
      "text/plain": [
       "Series([], Name: result_name, dtype: object)"
      ]
     },
     "execution_count": 55,
     "metadata": {},
     "output_type": "execute_result"
    }
   ],
   "source": [
    "target_values_without_ident = target_values['result_name'].str.replace(ident_1, '')\n",
    "target_values_without_ident"
   ]
  },
  {
   "cell_type": "code",
   "execution_count": 56,
   "id": "c85d22ca-4bd9-42d3-bfc5-58916675448e",
   "metadata": {},
   "outputs": [
    {
     "data": {
      "text/html": [
       "<div>\n",
       "<style scoped>\n",
       "    .dataframe tbody tr th:only-of-type {\n",
       "        vertical-align: middle;\n",
       "    }\n",
       "\n",
       "    .dataframe tbody tr th {\n",
       "        vertical-align: top;\n",
       "    }\n",
       "\n",
       "    .dataframe thead th {\n",
       "        text-align: right;\n",
       "    }\n",
       "</style>\n",
       "<table border=\"1\" class=\"dataframe\">\n",
       "  <thead>\n",
       "    <tr style=\"text-align: right;\">\n",
       "      <th></th>\n",
       "      <th>result_name</th>\n",
       "      <th>id</th>\n",
       "      <th>createby</th>\n",
       "      <th>createdate</th>\n",
       "      <th>updateby</th>\n",
       "      <th>updatedate</th>\n",
       "      <th>workresult_id</th>\n",
       "      <th>code</th>\n",
       "      <th>text</th>\n",
       "      <th>type_id</th>\n",
       "      <th>...</th>\n",
       "      <th>display_format_id</th>\n",
       "      <th>result_print_format_id</th>\n",
       "      <th>norm_set_id</th>\n",
       "      <th>hide_zero_value</th>\n",
       "      <th>input_order</th>\n",
       "      <th>display_order</th>\n",
       "      <th>sp_func</th>\n",
       "      <th>ext_code</th>\n",
       "      <th>status</th>\n",
       "      <th>group_num</th>\n",
       "    </tr>\n",
       "  </thead>\n",
       "  <tbody>\n",
       "  </tbody>\n",
       "</table>\n",
       "<p>0 rows × 26 columns</p>\n",
       "</div>"
      ],
      "text/plain": [
       "Empty DataFrame\n",
       "Columns: [result_name, id, createby, createdate, updateby, updatedate, workresult_id, code, text, type_id, interpret, func, unit_id, display_unit_id, req_status, print_status, display_format_id, result_print_format_id, norm_set_id, hide_zero_value, input_order, display_order, sp_func, ext_code, status, group_num]\n",
       "Index: []\n",
       "\n",
       "[0 rows x 26 columns]"
      ]
     },
     "execution_count": 56,
     "metadata": {},
     "output_type": "execute_result"
    }
   ],
   "source": [
    "target_values.loc[:, ('result_name')] = target_values_without_ident\n",
    "target_values"
   ]
  },
  {
   "cell_type": "markdown",
   "id": "858b5080-1714-4600-8292-2687640df584",
   "metadata": {},
   "source": [
    "# Changing formulas"
   ]
  },
  {
   "cell_type": "code",
   "execution_count": 57,
   "id": "a7f430b0-d937-4172-bf29-b1c8e77c0735",
   "metadata": {},
   "outputs": [
    {
     "data": {
      "text/plain": [
       "[]"
      ]
     },
     "execution_count": 57,
     "metadata": {},
     "output_type": "execute_result"
    }
   ],
   "source": [
    "target_names = target_values['result_name'].tolist()\n",
    "target_names"
   ]
  },
  {
   "cell_type": "code",
   "execution_count": 58,
   "id": "a85b083e-e230-4a0f-b0ab-6efa8854a8bd",
   "metadata": {},
   "outputs": [],
   "source": [
    "for name in target_names:\n",
    "    idx_anal = analizator_values.loc[analizator_values['result_name'] == name]['id'].tolist()[0]\n",
    "    target_func = target_values.loc[target_values['result_name'] == name]['func'].tolist()[0]\n",
    "    # find all values in func\n",
    "    i = 0\n",
    "    value_indxs = []\n",
    "    while i != -1:\n",
    "        # print(target_func[sum(value_indxs)::])\n",
    "        i = target_func[sum(value_indxs)+1::].find('#')\n",
    "        value_indxs.append(i+1)\n",
    "    # last element is bad\n",
    "    value_indxs.pop(-1)\n",
    "    # replace all values in func on new values\n",
    "    for n in value_indxs:\n",
    "        tf = target_func[:n+1+1:] + str(idx_anal) + target_func[n+1+1+4::]\n",
    "        target_values.loc[target_values['result_name'] == name, 'func'] = tf"
   ]
  },
  {
   "cell_type": "code",
   "execution_count": 59,
   "id": "b7368eda-1489-4d32-bd2e-bf668fe4e56c",
   "metadata": {},
   "outputs": [
    {
     "data": {
      "text/plain": [
       "Series([], Name: id, dtype: int64)"
      ]
     },
     "execution_count": 59,
     "metadata": {},
     "output_type": "execute_result"
    }
   ],
   "source": [
    "target_values['id']"
   ]
  },
  {
   "cell_type": "markdown",
   "id": "93c57a17-a8f1-4177-b947-56643855d470",
   "metadata": {},
   "source": [
    "# Update"
   ]
  },
  {
   "cell_type": "code",
   "execution_count": 36,
   "id": "70bf56bd-63d0-4c20-97d2-1190d569e7b0",
   "metadata": {},
   "outputs": [],
   "source": [
    "cursor = connection.cursor()\n",
    "ind = target_values.index\n",
    "for i in ind:\n",
    "    v = target_values.loc[i]\n",
    "    table_modification = f\"\"\"UPDATE lab.workresult_value as wrv SET func = '{str(v['func'])}' WHERE id = {int(v['id'])};\"\"\"\n",
    "    # print(table_modification)\n",
    "    try:\n",
    "        cursor.execute(table_modification)\n",
    "        connection.commit()\n",
    "    except:\n",
    "        print('Except!')\n",
    "        cursor.execute(\"ROLLBACK\")\n",
    "        connection.commit()"
   ]
  },
  {
   "cell_type": "code",
   "execution_count": null,
   "id": "004a2b13-7453-43b8-a74e-3ff012e16215",
   "metadata": {},
   "outputs": [],
   "source": []
  }
 ],
 "metadata": {
  "kernelspec": {
   "display_name": "Python 3 (ipykernel)",
   "language": "python",
   "name": "python3"
  },
  "language_info": {
   "codemirror_mode": {
    "name": "ipython",
    "version": 3
   },
   "file_extension": ".py",
   "mimetype": "text/x-python",
   "name": "python",
   "nbconvert_exporter": "python",
   "pygments_lexer": "ipython3",
   "version": "3.10.0"
  }
 },
 "nbformat": 4,
 "nbformat_minor": 5
}
